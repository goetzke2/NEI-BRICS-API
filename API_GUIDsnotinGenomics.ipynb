{
 "cells": [
  {
   "cell_type": "markdown",
   "metadata": {},
   "source": [
    "## Purpose:\n",
    "\n",
    "The purpose of this script is to return the GUIDs that exist in the eyeGeneGenomics data, but not in in the eyeGeneDemographics data. \n",
    "\n",
    "1. Input: Data from the API for eyeGeneGenomics and eyeGeneDemographics.\n",
    "\n",
    "2. Output: List of GUIDs that are not in the eyeGeneDemographics data. "
   ]
  },
  {
   "cell_type": "code",
   "execution_count": 12,
   "metadata": {},
   "outputs": [],
   "source": [
    "import pandas as pd\n",
    "import requests\n",
    "import json\n",
    "import getpass\n",
    "from io import StringIO\n",
    "import os\n",
    "import datetime as dt\n",
    "import time\n",
    "import sys\n",
    "import zipfile,io\n",
    "import glob\n",
    "\n",
    "\n",
    "#create your folder for storing data\n",
    "def create_folder(folder_path):\n",
    "    adjusted_folder_path = folder_path\n",
    "    folder_found = os.path.isdir(adjusted_folder_path)\n",
    "    counter = 0\n",
    "    while folder_found == True:\n",
    "        counter = counter + 1\n",
    "        adjusted_folder_path = folder_path + ' (' + str(counter) + ')'\n",
    "        folder_found = os.path.isdir(adjusted_folder_path)\n",
    "    os.mkdir(adjusted_folder_path)\n",
    "    return adjusted_folder_path\n",
    "\n",
    "x=dt.datetime.now()\n",
    "new_dir = os.getcwd()+'\\\\'+\"QueryDataFiles_\"+x.strftime('%Y_%m_%d')\n",
    "created_dir = create_folder(new_dir)\n",
    "\n",
    "\n",
    "def pulldatafile(filepath):\n",
    "    full_filepath = glob.glob(filepath)\n",
    "    file =''.join(map(str, full_filepath))\n",
    "    return file\n",
    "\n",
    "def read_data(file):\n",
    "    df = pd.read_csv(file)\n",
    "    return df"
   ]
  },
  {
   "cell_type": "markdown",
   "metadata": {},
   "source": [
    "## Please enter log in information"
   ]
  },
  {
   "cell_type": "code",
   "execution_count": 2,
   "metadata": {},
   "outputs": [
    {
     "name": "stdout",
     "output_type": "stream",
     "text": [
      "Enter your username\n"
     ]
    },
    {
     "name": "stdin",
     "output_type": "stream",
     "text": [
      " hrodney1\n",
      "Enter your password ·············\n"
     ]
    }
   ],
   "source": [
    "## login\n",
    "print(\"Enter your username\")\n",
    "username = input()\n",
    "\n",
    "password = getpass.getpass(\"Enter your password\")"
   ]
  },
  {
   "cell_type": "code",
   "execution_count": 3,
   "metadata": {},
   "outputs": [],
   "source": [
    "#login in to API\n",
    "\n",
    "loginheaders = {\n",
    "    'accept': 'text/plain',\n",
    "    'Content-Type': 'application/x-www-form-urlencoded'\n",
    "}\n",
    "\n",
    "logindata = {'password':password,\n",
    "         'username': username}"
   ]
  },
  {
   "cell_type": "code",
   "execution_count": 4,
   "metadata": {},
   "outputs": [
    {
     "name": "stdout",
     "output_type": "stream",
     "text": [
      "Login Successful\n"
     ]
    }
   ],
   "source": [
    "response = requests.post(\"https://brics.nei.nih.gov/gateway/authentication/user/login\", headers=loginheaders, data=logindata)\n",
    "if response.status_code == 200:\n",
    "    print(\"Login Successful\")\n",
    "    token = response.text\n",
    "    print(token)\n",
    "elif response.status_code != 200:\n",
    "    print(response.status_code)\n",
    "    print(\"Login not Successful. Please check username and password. If error still occurs reach out to system adminstrator. THIS CODE WILL NOT PROCEED\")\n",
    "    "
   ]
  },
  {
   "cell_type": "markdown",
   "metadata": {},
   "source": [
    "## API Query to retrieve data. "
   ]
  },
  {
   "cell_type": "code",
   "execution_count": 6,
   "metadata": {},
   "outputs": [],
   "source": [
    "multipleformsstudy = {\n",
    "    'accept':'application/zip',\n",
    "    'Content-type': 'application/json',\n",
    "    'Authorization':'Bearer ' + token\n",
    "    }\n",
    "\n",
    "multiplformsstudyurl =\"https://brics.nei.nih.gov/gateway/query-api/data/bulk/study/form\""
   ]
  },
  {
   "cell_type": "code",
   "execution_count": 7,
   "metadata": {},
   "outputs": [],
   "source": [
    "genomicsfilter =  {\n",
    "  \"flattened\": \"false\",\n",
    "  \"outputFormat\": \"csv\",\n",
    "  \"studyForms\": [\n",
    "    {\n",
    "      \"forms\": [\"eyeGENEGenomics\",\"eyeGENEDemographics\"],\n",
    "      \"study\": \"EYEGENE-STUDY0000203\"\n",
    "    }\n",
    "  ]\n",
    "}"
   ]
  },
  {
   "cell_type": "code",
   "execution_count": 8,
   "metadata": {},
   "outputs": [
    {
     "data": {
      "text/plain": [
       "<Response [200]>"
      ]
     },
     "execution_count": 8,
     "metadata": {},
     "output_type": "execute_result"
    }
   ],
   "source": [
    "multipleformsstudyquery = requests.post(multiplformsstudyurl,headers = multipleformsstudy,json = genomicsfilter)\n",
    "multipleformsstudyquery "
   ]
  },
  {
   "cell_type": "code",
   "execution_count": 9,
   "metadata": {},
   "outputs": [
    {
     "data": {
      "text/plain": [
       "{'Date': 'Mon, 20 Apr 2020 10:31:03 GMT', 'Server': 'Apache', 'X-Content-Type-Options': 'nosniff, nosniff, nosniff', 'X-Frame-Options': 'sameorigin', 'X-Xss-Protection': '1; mode=block, 1; mode=block', 'Referrer-Policy': 'strict-origin-when-cross-origin', 'Strict-Transport-Security': 'max-age=63072000;includeSubdomains;preload, max-age=31536000 ; includeSubDomains', 'Set-Cookie': 'JSESSIONID=2A260AAF28F28D9B9216FA1B07FE92BB; Path=/; HttpOnly', 'Expires': '0', 'Keep-Alive': 'timeout=5, max=100', 'Content-Disposition': 'attachment;filename=\"bulkForm_2020-04-20T10-37-507528675509189170532.zip\"', 'Cache-Control': 'no-cache, no-store, must-revalidate', 'Pragma': 'no-cache', 'Connection': 'Keep-Alive', 'Transfer-Encoding': 'chunked', 'Content-Type': 'application/zip'}"
      ]
     },
     "execution_count": 9,
     "metadata": {},
     "output_type": "execute_result"
    }
   ],
   "source": [
    "multipleformsstudyquery.headers"
   ]
  },
  {
   "cell_type": "code",
   "execution_count": 10,
   "metadata": {},
   "outputs": [],
   "source": [
    "created_dir = create_folder(new_dir)\n",
    "a = zipfile.ZipFile(io.BytesIO(multipleformsstudyquery.content))\n",
    "a.extractall(created_dir)"
   ]
  },
  {
   "cell_type": "code",
   "execution_count": 13,
   "metadata": {},
   "outputs": [],
   "source": [
    "files = sorted(glob.glob(created_dir + '/*.csv'))\n",
    "\n",
    "for file in files:\n",
    "    print(\"Here is the location of your files: \" + file)\n",
    "    print(\"_____________________________________________\")"
   ]
  },
  {
   "cell_type": "code",
   "execution_count": 14,
   "metadata": {},
   "outputs": [
    {
     "name": "stderr",
     "output_type": "stream",
     "text": [
      "C:\\Users\\hearodne\\AppData\\Local\\Continuum\\anaconda3\\lib\\site-packages\\IPython\\core\\interactiveshell.py:3249: DtypeWarning: Columns (23) have mixed types. Specify dtype option on import or set low_memory=False.\n",
      "  if (await self.run_code(code, result,  async_=asy)):\n"
     ]
    }
   ],
   "source": [
    "demographicsfile = pulldatafile(\"**/query_result_eyeGENEDemographics*\")\n",
    "demographicsdata = read_data(demographicsfile)\n",
    "genomicsfile =pulldatafile(\"**/query_result_eyeGENEGenomics*\")\n",
    "genomicsdata =read_data(genomicsfile)"
   ]
  },
  {
   "cell_type": "code",
   "execution_count": 15,
   "metadata": {},
   "outputs": [],
   "source": [
    "GUIDS = demographicsdata[~demographicsdata[\"eyeGENEDemographics.Main.GUID\"].isin(genomicsdata[\"eyeGENEGenomics.Main.GUID\"])]"
   ]
  },
  {
   "cell_type": "code",
   "execution_count": 20,
   "metadata": {},
   "outputs": [],
   "source": [
    "GUIDSNOTINGENOMICS = pd.DataFrame(GUIDS[\"eyeGENEDemographics.Main.GUID\"].unique(), columns = [\"GUIDS NOT IN GENOMICS\"]).to_csv(created_dir + \"\\\\\"+x.strftime('%Y_%m_%d')+\"_GUIDSNOTINGENOMICS.csv\", index = False)"
   ]
  },
  {
   "cell_type": "code",
   "execution_count": 21,
   "metadata": {},
   "outputs": [
    {
     "name": "stdout",
     "output_type": "stream",
     "text": [
      "The number of rows of genomics data: 1477635\n",
      "________________________________________________________\n",
      "The number of rows of demographics data: 6417\n",
      "________________________________________________________\n",
      "The number of GUIDs not in Demographics but exist in Genomics Form: 874\n",
      "________________________________________________________\n",
      "The files have been created in your folder  C:\\Users\\hearodne\\Desktop\\NEI\\GUIDs not in Genomics\\API\\QueryDataFiles_2020_04_20 (2)\n"
     ]
    }
   ],
   "source": [
    "print(\"The number of rows of genomics data: \" + str(len(genomicsdata)))\n",
    "print(\"________________________________________________________\")\n",
    "\n",
    "print(\"The number of rows of demographics data: \" + str(len(demographicsdata)))\n",
    "print(\"________________________________________________________\")\n",
    "\n",
    "print(f'The number of GUIDs that are not in Genomics but are in Demographics: {len(GUIDS[\"eyeGENEDemographics.Main.GUID\"].unique())}')\n",
    "print(\"________________________________________________________\")\n",
    "\n",
    "print(\"The files containg the list of GUIDs has been created in your folder  \" + str(created_dir))\n",
    "\n",
    "\n",
    "\n"
   ]
  },
  {
   "cell_type": "code",
   "execution_count": null,
   "metadata": {},
   "outputs": [],
   "source": []
  }
 ],
 "metadata": {
  "kernelspec": {
   "display_name": "Python 3",
   "language": "python",
   "name": "python3"
  },
  "language_info": {
   "codemirror_mode": {
    "name": "ipython",
    "version": 3
   },
   "file_extension": ".py",
   "mimetype": "text/x-python",
   "name": "python",
   "nbconvert_exporter": "python",
   "pygments_lexer": "ipython3",
   "version": "3.7.4"
  }
 },
 "nbformat": 4,
 "nbformat_minor": 4
}

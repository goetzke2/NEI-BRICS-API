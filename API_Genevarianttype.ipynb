{
 "cells": [
  {
   "cell_type": "markdown",
   "metadata": {},
   "source": [
    "## Purpose:\n",
    "The purpose of this script is the provide all the GUIDs that have both genes and a gene variant interpretation type. \n",
    "\n",
    "Input: Queried data on two genes \n",
    "Output: All GUIDs with both genes and the gene variant interpretation type"
   ]
  },
  {
   "cell_type": "code",
   "execution_count": null,
   "metadata": {},
   "outputs": [],
   "source": [
    "import pandas as pd\n",
    "import requests\n",
    "import json\n",
    "import getpass\n",
    "from io import StringIO\n",
    "import os\n",
    "import datetime as dt\n",
    "import time\n",
    "import sys"
   ]
  },
  {
   "cell_type": "markdown",
   "metadata": {},
   "source": [
    "## Please enter login information"
   ]
  },
  {
   "cell_type": "code",
   "execution_count": null,
   "metadata": {},
   "outputs": [],
   "source": [
    "## login\n",
    "print(\"Enter your username\")\n",
    "username = input()\n",
    "\n",
    "password = getpass.getpass(\"Enter your password\")"
   ]
  },
  {
   "cell_type": "code",
   "execution_count": null,
   "metadata": {},
   "outputs": [],
   "source": [
    "#login in to API\n",
    "\n",
    "loginheaders = {\n",
    "    'accept': 'text/plain',\n",
    "    'Content-Type': 'application/x-www-form-urlencoded'\n",
    "}\n",
    "\n",
    "logindata = {'password':password,\n",
    "         'username': username}"
   ]
  },
  {
   "cell_type": "code",
   "execution_count": null,
   "metadata": {},
   "outputs": [],
   "source": [
    "response = requests.post(\"https://brics.nei.cit.nih.gov/gateway/authentication/user/login\", headers=loginheaders, data=logindata)\n"
   ]
  },
  {
   "cell_type": "code",
   "execution_count": null,
   "metadata": {},
   "outputs": [],
   "source": [
    "#login in check \n",
    "if response.status_code == 200:\n",
    "    print(\"Login Successful\")\n",
    "    token = response.text\n",
    "elif response.status_code != 200:\n",
    "    print(response.status_code)\n",
    "    print(\"Login not Successful. Please check username and password. If error still occurs reach out to system adminstrator. THIS CODE WILL NOT PROCEED\")\n",
    "    \n",
    "        "
   ]
  },
  {
   "cell_type": "markdown",
   "metadata": {},
   "source": [
    "## Please enter in the genes and gene variant interpretation type. "
   ]
  },
  {
   "cell_type": "code",
   "execution_count": null,
   "metadata": {},
   "outputs": [],
   "source": [
    "print(\"Enter the value for HGNCGeneSymbl (PVs: )\")\n",
    "print(\"HGNCSymbol Gene 1\")#ABCA4\n",
    "HGNCGeneSymbl1 = input()\n",
    "\n",
    "print(\"HGNCSymbol Gene 2\")#PRPH2\n",
    "HGNCGeneSymbl2 = input()\n",
    "\n",
    "print(\"Enter the value for GeneVariantInterpretTyp(PVs: )\")\n",
    "GeneVariantInterpretTyp = input().lower()"
   ]
  },
  {
   "cell_type": "code",
   "execution_count": null,
   "metadata": {},
   "outputs": [],
   "source": [
    "genomicsfilter = {\n",
    "    \"formStudy\": [\n",
    "        {\n",
    "            \"form\": \"eyeGENEGenomics\",\n",
    "            \"studies\": [\n",
    "                \"EYEGENE-STUDY0000203\"\n",
    "            ]\n",
    "        }\n",
    "    ],\n",
    "    \"filter\": [\n",
    "        {\n",
    "            \"dataElement\": \"HGNCGeneSymbl\",\n",
    "            \"form\": \"eyeGENEGenomics\",\n",
    "            \"repeatableGroup\": \"Genomics Information\",\n",
    "            \"operator\":\"OR\",\n",
    "            \"value\": [\n",
    "               HGNCGeneSymbl1\n",
    "            ]\n",
    "        },\n",
    "        {\n",
    "            \"dataElement\": \"HGNCGeneSymbl\",\n",
    "            \"form\": \"eyeGENEGenomics\",\n",
    "            \"repeatableGroup\": \"Genomics Information\",\n",
    "            \"value\": [\n",
    "                HGNCGeneSymbl2\n",
    "            ]\n",
    "        }\n",
    "    ]\n",
    "}\n",
    "           \n",
    " \n",
    " \n",
    "\n"
   ]
  },
  {
   "cell_type": "code",
   "execution_count": null,
   "metadata": {},
   "outputs": [],
   "source": [
    "queryurl =\"https://bricsnei-stage.cit.nih.gov/gateway/query-api/data/csv\"\n",
    "\n",
    "headers = {\n",
    "    'accept': 'application/csv',\n",
    "    'Content-type': 'application/json',\n",
    "    'Authorization':'Bearer ' + token }"
   ]
  },
  {
   "cell_type": "code",
   "execution_count": null,
   "metadata": {},
   "outputs": [],
   "source": [
    "%time query = requests.post(queryurl,headers=headers,json=genomicsfilter)"
   ]
  },
  {
   "cell_type": "code",
   "execution_count": null,
   "metadata": {},
   "outputs": [],
   "source": [
    "if query.status_code != 200:\n",
    "    print(\"Query not successful. Response Status:  \" + str(response.status_code))\n",
    "else:\n",
    "    print(\"Data received: \" + query.headers[\"Content-Disposition\"][21:96]) \n",
    "\n",
    "    "
   ]
  },
  {
   "cell_type": "code",
   "execution_count": null,
   "metadata": {},
   "outputs": [],
   "source": [
    "#prepare data\n",
    "dataset = query.text\n",
    "texttodf = StringIO(dataset)\n",
    "genes_data = pd.read_csv(texttodf, sep=\",\")\n",
    "genes_data.head()"
   ]
  },
  {
   "cell_type": "code",
   "execution_count": null,
   "metadata": {},
   "outputs": [],
   "source": [
    "genelist = []\n",
    "genelist.append(HGNCGeneSymbl1)\n",
    "genelist.append(HGNCGeneSymbl2)\n",
    "genelist"
   ]
  },
  {
   "cell_type": "code",
   "execution_count": null,
   "metadata": {},
   "outputs": [],
   "source": [
    "new_data = genes_data[genes_data[\"eyeGENEGenomics.Genomics Information.HGNCGeneSymbl\"].isin(genelist) & (genes_data[\"eyeGENEGenomics.Genomics Information.GeneVariantInterpretTyp\"] == GeneVariantInterpretTyp)].copy() \n"
   ]
  },
  {
   "cell_type": "code",
   "execution_count": null,
   "metadata": {},
   "outputs": [],
   "source": [
    "new_data.head()"
   ]
  },
  {
   "cell_type": "code",
   "execution_count": null,
   "metadata": {},
   "outputs": [],
   "source": [
    "#updated data\n",
    "querytest2=new_data[new_data[\"eyeGENEGenomics.Genomics Information.HGNCGeneSymbl\"]==HGNCGeneSymbl1].merge(new_data[((new_data[\"eyeGENEGenomics.Genomics Information.HGNCGeneSymbl\"]==HGNCGeneSymbl2))][['eyeGENEGenomics.Main.GUID']], left_on=\"eyeGENEGenomics.Main.GUID\",right_on=\"eyeGENEGenomics.Main.GUID\", how=\"inner\")[['eyeGENEGenomics.Main.GUID','eyeGENEGenomics.Genomics Information.HGNCGeneSymbl']]\n"
   ]
  },
  {
   "cell_type": "code",
   "execution_count": null,
   "metadata": {},
   "outputs": [],
   "source": [
    "uniqueGUID = querytest2[\"eyeGENEGenomics.Main.GUID\"].unique()\n",
    "updated = new_data[new_data[\"eyeGENEGenomics.Main.GUID\"].isin(uniqueGUID)]"
   ]
  },
  {
   "cell_type": "code",
   "execution_count": null,
   "metadata": {},
   "outputs": [],
   "source": [
    "def create_folder(folder_path):\n",
    "    adjusted_folder_path = folder_path\n",
    "    folder_found = os.path.isdir(adjusted_folder_path)\n",
    "    counter = 0\n",
    "    while folder_found == True:\n",
    "        counter = counter + 1\n",
    "        adjusted_folder_path = folder_path + ' (' + str(counter) + ')'\n",
    "        folder_found = os.path.isdir(adjusted_folder_path)\n",
    "    os.mkdir(adjusted_folder_path)\n",
    "    return adjusted_folder_path\n",
    "\n",
    "x=dt.datetime.now()\n",
    "new_dir = os.getcwd()+'\\\\'+\"EyeGene_\"+x.strftime('%Y_%m_%d')+\"_outputfiles\"\n",
    "created_dir = create_folder(new_dir)\n",
    "\n",
    "\n"
   ]
  },
  {
   "cell_type": "code",
   "execution_count": null,
   "metadata": {},
   "outputs": [],
   "source": [
    "newfile = updated.to_excel(created_dir+\"\\\\\"+x.strftime('%Y_%m_%d')+ \"genevariant.xlsx\",index=False)\n",
    "                           \n",
    "uniqueGUIDsfile = pd.DataFrame(uniqueGUID,columns=[\"Unique GUIDs\"]).to_csv(created_dir+\"\\\\\"+x.strftime('%Y_%m_%d')+ \"_UniqueGUIDSwBothGenes.csv\",index=False)\n",
    "\n",
    "#print(\"The newfile: \" + str(newfile) + \"  has been created. Please reach out to your operations for support or questions\")"
   ]
  },
  {
   "cell_type": "code",
   "execution_count": null,
   "metadata": {},
   "outputs": [],
   "source": [
    "print(\"The number of rows of data: \" + str(len(genes_data)))\n",
    "print(\"________________________________________________________\")\n",
    "\n",
    "print(\"The number of unique GUIDs that have both genes and the variant interpretation type: \" + str(len(uniqueGUID)))\n",
    "\n",
    "print(\"________________________________________________________\")\n",
    "\n",
    "print(\"The number of rows of data for GUIDs with both genes and variant interpretation type dataset:\" + str(len(updated)))\n",
    "\n",
    "print(\"________________________________________________________\")\n",
    "\n",
    "print(\"The files have been created in your folder  \" + str(created_dir))\n",
    "\n",
    "\n"
   ]
  },
  {
   "cell_type": "code",
   "execution_count": null,
   "metadata": {},
   "outputs": [],
   "source": []
  },
  {
   "cell_type": "code",
   "execution_count": null,
   "metadata": {},
   "outputs": [],
   "source": []
  }
 ],
 "metadata": {
  "kernelspec": {
   "display_name": "Python 3",
   "language": "python",
   "name": "python3"
  },
  "language_info": {
   "codemirror_mode": {
    "name": "ipython",
    "version": 3
   },
   "file_extension": ".py",
   "mimetype": "text/x-python",
   "name": "python",
   "nbconvert_exporter": "python",
   "pygments_lexer": "ipython3",
   "version": "3.7.4"
  }
 },
 "nbformat": 4,
 "nbformat_minor": 4
}

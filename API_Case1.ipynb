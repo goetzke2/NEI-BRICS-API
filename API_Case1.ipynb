{
 "cells": [
  {
   "cell_type": "markdown",
   "metadata": {},
   "source": [
    "## Purpose: From the join of the two form structures, eyeGeneDemographics and eyeGeneGenomics, provide the GUIDs with one gene and one or more gene variant types. \n",
    "\n",
    "1. Input: Data from API, which includes the eyeGeneGenomics joined on the eyeGeneDemographics, filtered on a gene. \n",
    "2. Output: Provides the list of GUIDs that have the gene and gene variant types. Provides a CSV file with the GUIDs and the demographics information for the GUIDs. "
   ]
  },
  {
   "cell_type": "markdown",
   "metadata": {},
   "source": [
    "Please run cells"
   ]
  },
  {
   "cell_type": "code",
   "execution_count": null,
   "metadata": {},
   "outputs": [],
   "source": [
    "import pandas as pd # used for creating a dataframe and other methods using pandas\n",
    "import requests # used to API calls\n",
    "import json # used for creating json files\n",
    "import getpass\n",
    "from io import StringIO\n",
    "import os\n",
    "import datetime as dt\n",
    "import time\n",
    "import sys"
   ]
  },
  {
   "cell_type": "code",
   "execution_count": null,
   "metadata": {},
   "outputs": [],
   "source": [
    "def create_folder(folder_path):\n",
    "    adjusted_folder_path = folder_path\n",
    "    folder_found = os.path.isdir(adjusted_folder_path)\n",
    "    counter = 0\n",
    "    while folder_found == True:\n",
    "        counter = counter + 1\n",
    "        adjusted_folder_path = folder_path + ' (' + str(counter) + ')'\n",
    "        folder_found = os.path.isdir(adjusted_folder_path)\n",
    "    os.mkdir(adjusted_folder_path)\n",
    "    return adjusted_folder_path\n",
    "\n",
    "x=dt.datetime.now()\n",
    "new_dir = os.getcwd()+'\\\\'+\"EyeGene_\"+x.strftime('%Y_%m_%d')+\"_outputfiles\"\n",
    "created_dir = create_folder(new_dir)"
   ]
  },
  {
   "cell_type": "markdown",
   "metadata": {},
   "source": [
    "Please enter log in information"
   ]
  },
  {
   "cell_type": "code",
   "execution_count": null,
   "metadata": {},
   "outputs": [],
   "source": [
    "## login\n",
    "print(\"Enter your username\")\n",
    "username = input()\n",
    "\n",
    "password = getpass.getpass(\"Enter your password\")"
   ]
  },
  {
   "cell_type": "code",
   "execution_count": null,
   "metadata": {},
   "outputs": [],
   "source": [
    "#headers and payload for authentication\n",
    "loginheaders = {\n",
    "    'accept': 'text/plain',\n",
    "    'Content-Type': 'application/x-www-form-urlencoded'\n",
    "}\n",
    "\n",
    "logindata = {'password':password,\n",
    "         'username': username}"
   ]
  },
  {
   "cell_type": "code",
   "execution_count": null,
   "metadata": {},
   "outputs": [],
   "source": [
    "response = requests.post(\"https://bricsnei-stage.cit.nih.gov/gateway/authentication/user/login\", headers=loginheaders, data=logindata)\n",
    "#login in check \n",
    "if response.status_code == 200:\n",
    "    print(\"Login Successful\")\n",
    "    token=response.text\n",
    "    print(token)\n",
    "elif response.status_code != 200:\n",
    "    print(response.status_code)\n",
    "    print(\"Login not Successful. Please check username and password. If error still occurs reach out to system adminstrator. THIS CODE WILL NOT PROCEED\")\n",
    "    "
   ]
  },
  {
   "cell_type": "markdown",
   "metadata": {},
   "source": [
    "## Please enter values for gene and gene variant type. "
   ]
  },
  {
   "cell_type": "code",
   "execution_count": null,
   "metadata": {},
   "outputs": [],
   "source": [
    "print(\"HGNCGeneSymbol\")\n",
    "HGNCGeneSymbol = input()"
   ]
  },
  {
   "cell_type": "code",
   "execution_count": null,
   "metadata": {},
   "outputs": [],
   "source": [
    "print(\"GeneVariantInterpretTyp\")\n",
    "\n",
    "print(\"PVs = benign, likely benign,likely pathogenic, pathogenic,uncertain significance\")\n",
    "      \n",
    "print(\"Enter multiple using a comma (,)\")\n",
    "GeneVariantInterpretTyp = input().lower()\n",
    "genevariantlist =GeneVariantInterpretTyp.split(',')"
   ]
  },
  {
   "cell_type": "code",
   "execution_count": null,
   "metadata": {},
   "outputs": [],
   "source": [
    "genomicsfilter = {\n",
    "    \"formStudy\": [\n",
    "        {\n",
    "            \"form\": \"eyeGENEGenomics\",\n",
    "            \"studies\": [\"EYEGENE-STUDY0000203\"]\n",
    "        },\n",
    "          {\n",
    "            \"form\": \"eyeGENEDemographics\",\n",
    "            \"studies\": [\"EYEGENE-STUDY0000203\"]\n",
    "        },\n",
    "    ],\n",
    "    \"filter\": [\n",
    "        {\n",
    "            \"dataElement\": \"HGNCGeneSymbl\",\n",
    "            \"form\": \"eyeGENEGenomics\",\n",
    "            \"repeatableGroup\": \"Genomics Information\",\n",
    "            \"value\": [HGNCGeneSymbol]\n",
    "        }\n",
    "    ] \n",
    "}"
   ]
  },
  {
   "cell_type": "code",
   "execution_count": null,
   "metadata": {},
   "outputs": [],
   "source": [
    "queryurl =\"https://bricsnei-stage.cit.nih.gov/gateway/query-api/data/csv\"\n",
    "\n",
    "headers = {\n",
    "    'accept': 'application/csv',\n",
    "    'Content-type': 'application/json',\n",
    "    'Authorization':'Bearer ' + token }"
   ]
  },
  {
   "cell_type": "code",
   "execution_count": null,
   "metadata": {},
   "outputs": [],
   "source": [
    "query = requests.post(queryurl,headers=headers,json=genomicsfilter)\n",
    "query"
   ]
  },
  {
   "cell_type": "code",
   "execution_count": null,
   "metadata": {},
   "outputs": [],
   "source": [
    "print(f\"Response: {query}\")\n",
    "print(\"Data received: \" + query.headers[\"Content-Disposition\"][21:96]) "
   ]
  },
  {
   "cell_type": "code",
   "execution_count": null,
   "metadata": {},
   "outputs": [],
   "source": [
    "dataset = query.text\n",
    "texttodf = StringIO(dataset)\n",
    "nei_data = pd.read_csv(texttodf, sep=\",\")\n",
    "nei_data.head()"
   ]
  },
  {
   "cell_type": "code",
   "execution_count": null,
   "metadata": {},
   "outputs": [],
   "source": [
    "# input the data from query tool\n",
    "inputdata =nei_data"
   ]
  },
  {
   "cell_type": "code",
   "execution_count": null,
   "metadata": {},
   "outputs": [],
   "source": [
    "inputdata[\"eyeGENEGenomics.Genomics Information.GeneVariantInterpretTyp\"]=inputdata[\"eyeGENEGenomics.Genomics Information.GeneVariantInterpretTyp\"].str.lower()"
   ]
  },
  {
   "cell_type": "code",
   "execution_count": null,
   "metadata": {},
   "outputs": [],
   "source": [
    "newdata=inputdata[inputdata[\"eyeGENEGenomics.Genomics Information.GeneVariantInterpretTyp\"].isin(genevariantlist)]"
   ]
  },
  {
   "cell_type": "code",
   "execution_count": null,
   "metadata": {},
   "outputs": [],
   "source": [
    "compdata= inputdata[~inputdata[\"eyeGENEGenomics.Genomics Information.GeneVariantInterpretTyp\"].isin(genevariantlist)]"
   ]
  },
  {
   "cell_type": "code",
   "execution_count": null,
   "metadata": {},
   "outputs": [],
   "source": [
    "updated = newdata[~newdata[\"eyeGENEGenomics.Main.GUID\"].isin(compdata[\"eyeGENEGenomics.Main.GUID\"])]"
   ]
  },
  {
   "cell_type": "code",
   "execution_count": null,
   "metadata": {},
   "outputs": [],
   "source": [
    "demographicsdata=inputdata.iloc[:,25:]"
   ]
  },
  {
   "cell_type": "code",
   "execution_count": null,
   "metadata": {},
   "outputs": [],
   "source": [
    "demographicsdf = demographicsdata[demographicsdata[\"eyeGENEDemographics.Main.GUID\"].isin(updated[\"eyeGENEGenomics.Main.GUID\"].unique())]"
   ]
  },
  {
   "cell_type": "code",
   "execution_count": null,
   "metadata": {},
   "outputs": [],
   "source": [
    "demographics_updated =demographicsdf.drop_duplicates().reset_index(drop=True)"
   ]
  },
  {
   "cell_type": "code",
   "execution_count": null,
   "metadata": {},
   "outputs": [],
   "source": [
    "demographics_updated.head()"
   ]
  },
  {
   "cell_type": "code",
   "execution_count": null,
   "metadata": {},
   "outputs": [],
   "source": [
    "uniqueGUIDsfile = pd.DataFrame(updated[\"eyeGENEGenomics.Main.GUID\"].unique(),columns=[\"Unique GUIDs\"]).to_excel(created_dir+\"\\\\\"+ x.strftime('%Y_%m_%d')+\"_UniqueGUIDS.xlsx\",index=False)"
   ]
  },
  {
   "cell_type": "code",
   "execution_count": null,
   "metadata": {},
   "outputs": [],
   "source": [
    "demographicsfile = demographics_updated.to_excel(created_dir+\"\\\\\"+ x.strftime('%Y_%m_%d')+\"_DemographicsData.xlsx\",index=False)"
   ]
  },
  {
   "cell_type": "code",
   "execution_count": null,
   "metadata": {},
   "outputs": [],
   "source": [
    "print(\"The number of rows from query tool: \" + str(len(nei_data)))\n",
    "print(\"________________________________________________________\")\n",
    "\n",
    "print(f'The number of unique GUIDs that have gene variant type {genevariantlist[0]} and {genevariantlist[1]}:   {len(newdata[\"eyeGENEGenomics.Main.GUID\"].unique())}')\n",
    "\n",
    "print(\"________________________________________________________\")\n",
    "\n",
    "    \n",
    "print(f'The number of GUIDs that have gene variant type {genevariantlist}, and {HGNCGeneSymbol} : {len(updated[\"eyeGENEGenomics.Main.GUID\"].unique())}')\n",
    "\n",
    "print(\"________________________________________________________\")\n",
    "\n",
    "print(\"The files have been created in your folder  \" + str(created_dir))"
   ]
  },
  {
   "cell_type": "code",
   "execution_count": null,
   "metadata": {},
   "outputs": [],
   "source": []
  }
 ],
 "metadata": {
  "kernelspec": {
   "display_name": "Python 3",
   "language": "python",
   "name": "python3"
  },
  "language_info": {
   "codemirror_mode": {
    "name": "ipython",
    "version": 3
   },
   "file_extension": ".py",
   "mimetype": "text/x-python",
   "name": "python",
   "nbconvert_exporter": "python",
   "pygments_lexer": "ipython3",
   "version": "3.7.4"
  }
 },
 "nbformat": 4,
 "nbformat_minor": 4
}

{
 "cells": [
  {
   "cell_type": "markdown",
   "metadata": {},
   "source": [
    "## Purpose: The purpose of the script provides the GUIDs for a gene variant type, but excludes the GUIDs that does not include another gene variant type. \n",
    "\n",
    "1. Input: From API, data from the eyeGeneGenomics that has the gene variant types and two genes. \n",
    "2. Output: List of GUIDs that have both genes and specific gene variant. "
   ]
  },
  {
   "cell_type": "code",
   "execution_count": null,
   "metadata": {},
   "outputs": [],
   "source": [
    "#Import dependencies\n",
    "import pandas as pd # used for creating a dataframe and other methods using pandas\n",
    "import requests # used to API calls\n",
    "import json # used for creating json files\n",
    "import getpass\n",
    "from io import StringIO\n",
    "import os\n",
    "import datetime as dt\n",
    "import time\n",
    "import sys"
   ]
  },
  {
   "cell_type": "code",
   "execution_count": null,
   "metadata": {},
   "outputs": [],
   "source": [
    "def create_folder(folder_path):\n",
    "    adjusted_folder_path = folder_path\n",
    "    folder_found = os.path.isdir(adjusted_folder_path)\n",
    "    counter = 0\n",
    "    while folder_found == True:\n",
    "        counter = counter + 1\n",
    "        adjusted_folder_path = folder_path + ' (' + str(counter) + ')'\n",
    "        folder_found = os.path.isdir(adjusted_folder_path)\n",
    "    os.mkdir(adjusted_folder_path)\n",
    "    return adjusted_folder_path\n",
    "\n",
    "x=dt.datetime.now()\n",
    "new_dir = os.getcwd()+'\\\\'+\"EyeGene_\"+x.strftime('%Y_%m_%d')+\"_outputfiles\"\n",
    "created_dir = create_folder(new_dir)"
   ]
  },
  {
   "cell_type": "markdown",
   "metadata": {},
   "source": [
    "Enter Login Information"
   ]
  },
  {
   "cell_type": "code",
   "execution_count": null,
   "metadata": {},
   "outputs": [],
   "source": [
    "## login\n",
    "print(\"Enter your username\")\n",
    "username = input()\n",
    "\n",
    "password = getpass.getpass(\"Enter your password\")"
   ]
  },
  {
   "cell_type": "code",
   "execution_count": null,
   "metadata": {},
   "outputs": [],
   "source": [
    "loginheaders = {\n",
    "    'accept': 'text/plain',\n",
    "    'Content-Type': 'application/x-www-form-urlencoded'\n",
    "}\n",
    "\n",
    "logindata = {'password':password,\n",
    "         'username': username}"
   ]
  },
  {
   "cell_type": "code",
   "execution_count": null,
   "metadata": {},
   "outputs": [],
   "source": [
    "response = requests.post(\"https://brics.nei.nih.gov/gateway/authentication/user/login\", headers=loginheaders, data=logindata)\n",
    "#login in check \n",
    "if response.status_code == 200:\n",
    "    print(\"Login Successful\")\n",
    "    token=response.text\n",
    "    print(token)\n",
    "elif response.status_code != 200:\n",
    "    print(response.status_code)\n",
    "    print(\"Login not Successful. Please check username and password. If error still occurs reach out to system adminstrator. THIS CODE WILL NOT PROCEED\")\n",
    "    "
   ]
  },
  {
   "cell_type": "markdown",
   "metadata": {},
   "source": [
    "## Enter values for genes and gene variant interpretation type. "
   ]
  },
  {
   "cell_type": "code",
   "execution_count": null,
   "metadata": {},
   "outputs": [],
   "source": [
    "includelist =input(\"What variant type(s) to include?\")\n",
    "excludelist = input(\"What variant type(s) to exclude?\")\n",
    "genelist = input(\"Enter two genes\")"
   ]
  },
  {
   "cell_type": "code",
   "execution_count": null,
   "metadata": {},
   "outputs": [],
   "source": [
    "include =[]\n",
    "exclude =[]\n",
    "\n",
    "include = includelist.split(',')\n",
    "exclude = excludelist.split(',')\n",
    "\n",
    "\n",
    "genevariantlist = include + exclude\n",
    "print(f'Gene Variant Type: {genevariantlist}')\n",
    "\n",
    "genes = genelist.split(\",\")\n",
    "print(f'Genes: {genes}')"
   ]
  },
  {
   "cell_type": "code",
   "execution_count": null,
   "metadata": {},
   "outputs": [],
   "source": [
    "#check that values in genevariant list\n",
    "genePVs = [\"benign\", \"likely benign\",\"likely pathogenic\", \"pathogenic\",\"uncertain significance\"]\n",
    "\n",
    "for value in genevariantlist:\n",
    "    if value in genePVs:\n",
    "        print(value + \" is in list\")\n",
    "    else: \n",
    "        print(value + \"   is not in list.Please reenter values before proceeding\")\n",
    "        break"
   ]
  },
  {
   "cell_type": "code",
   "execution_count": null,
   "metadata": {},
   "outputs": [],
   "source": [
    "genefilter = [{\n",
    "            \"dataElement\": \"GeneVariantInterpretTyp\",\n",
    "            \"form\": \"eyeGENEGenomics\",\n",
    "            \"repeatableGroup\": \"Genomics Information\",\n",
    "            \"value\": genevariantlist\n",
    "        },]\n",
    "for i in range(0,len(genes)): \n",
    "    dataelement={\n",
    "            \"dataElement\": \"HGNCGeneSymbl\",\n",
    "            \"form\": \"eyeGENEGenomics\",\n",
    "            \"repeatableGroup\": \"Genomics Information\",\n",
    "            \"operator\":\"OR\",\n",
    "            \"value\":[genes[i].strip(\"\")]}\n",
    "    genefilter.append(dataelement)"
   ]
  },
  {
   "cell_type": "code",
   "execution_count": null,
   "metadata": {},
   "outputs": [],
   "source": [
    "genomicsfilter = {\n",
    "  \"filter\": genefilter,\n",
    "  \"flattened\": \"false\",\n",
    "  \"formStudy\": [\n",
    "    {\n",
    "      \"form\":\"eyeGENEGenomics\",\n",
    "      \"studies\": [\"EYEGENE-STUDY0000203\"]\n",
    "    }\n",
    "  ]\n",
    "}"
   ]
  },
  {
   "cell_type": "code",
   "execution_count": null,
   "metadata": {},
   "outputs": [],
   "source": [
    "genomicsfilter"
   ]
  },
  {
   "cell_type": "code",
   "execution_count": null,
   "metadata": {},
   "outputs": [],
   "source": [
    "queryurl =\"https://brics.nei.nih.gov/gateway/query-api/data/csv\"\n",
    "\n",
    "headers = {\n",
    "    'accept': 'application/csv',\n",
    "    'Content-type': 'application/json',\n",
    "    'Authorization':'Bearer ' + token }"
   ]
  },
  {
   "cell_type": "code",
   "execution_count": null,
   "metadata": {},
   "outputs": [],
   "source": [
    "query = requests.post(queryurl,headers=headers,json=genomicsfilter,stream=True)\n",
    "query"
   ]
  },
  {
   "cell_type": "code",
   "execution_count": null,
   "metadata": {},
   "outputs": [],
   "source": [
    "print(f\"Response: {query}\")\n",
    "print(\"Data received: \" + query.headers[\"Content-Disposition\"][21:96])"
   ]
  },
  {
   "cell_type": "code",
   "execution_count": null,
   "metadata": {},
   "outputs": [],
   "source": [
    "dataset = query.text\n",
    "texttodf = StringIO(dataset)\n",
    "nei_data = pd.read_csv(texttodf, sep=\",\")\n",
    "print(f'Number of rows of data: {len(nei_data)}')\n",
    "nei_data.head()"
   ]
  },
  {
   "cell_type": "code",
   "execution_count": null,
   "metadata": {},
   "outputs": [],
   "source": [
    "inputdata =nei_data"
   ]
  },
  {
   "cell_type": "code",
   "execution_count": null,
   "metadata": {},
   "outputs": [],
   "source": [
    "inputdata[\"eyeGENEGenomics.Genomics Information.GeneVariantInterpretTyp\"]=inputdata[\"eyeGENEGenomics.Genomics Information.GeneVariantInterpretTyp\"].str.lower()"
   ]
  },
  {
   "cell_type": "code",
   "execution_count": null,
   "metadata": {},
   "outputs": [],
   "source": [
    "included_df=inputdata[inputdata[\"eyeGENEGenomics.Genomics Information.GeneVariantInterpretTyp\"].isin(include)]"
   ]
  },
  {
   "cell_type": "code",
   "execution_count": null,
   "metadata": {},
   "outputs": [],
   "source": [
    "excluded_df= inputdata[inputdata[\"eyeGENEGenomics.Genomics Information.GeneVariantInterpretTyp\"].isin(exclude)]"
   ]
  },
  {
   "cell_type": "code",
   "execution_count": null,
   "metadata": {},
   "outputs": [],
   "source": [
    "datawgenevariant= newdata[~newdata[\"eyeGENEGenomics.Main.GUID\"].isin(compdata[\"eyeGENEGenomics.Main.GUID\"])]"
   ]
  },
  {
   "cell_type": "code",
   "execution_count": null,
   "metadata": {},
   "outputs": [],
   "source": [
    "name = {}\n",
    "for gene in genes:\n",
    "    name[gene] = pd.DataFrame()\n",
    "    name[gene]=datawgenevariant[datawgenevariant[\"eyeGENEGenomics.Genomics Information.HGNCGeneSymbl\"]==gene]\n",
    "    print(f'There are {len(name[gene])} rows of data for name[{gene}].')\n",
    "print(f'There are {len(name)} dataframes created.')"
   ]
  },
  {
   "cell_type": "code",
   "execution_count": null,
   "metadata": {},
   "outputs": [],
   "source": [
    "dfs = []\n",
    "for i in range(0,len(genes)):\n",
    "    dfs.append(name[genes[i]])\n",
    "    print(f'name{[genes[i]]}')"
   ]
  },
  {
   "cell_type": "code",
   "execution_count": null,
   "metadata": {},
   "outputs": [],
   "source": [
    "from functools import partial, reduce\n",
    "\n",
    "merge = partial(pd.merge, on=[\"eyeGENEGenomics.Main.GUID\"], how='inner')\n",
    "results = reduce(merge, dfs)[\"eyeGENEGenomics.Main.GUID\"]\n",
    "uniqueguids = results.unique()\n",
    "print(len(uniqueguids))"
   ]
  },
  {
   "cell_type": "code",
   "execution_count": null,
   "metadata": {},
   "outputs": [],
   "source": [
    "updated = datawgenevariant[datawgenevariant[\"eyeGENEGenomics.Main.GUID\"].isin(uniqueguids)]"
   ]
  },
  {
   "cell_type": "markdown",
   "metadata": {},
   "source": [
    "Output Information"
   ]
  },
  {
   "cell_type": "code",
   "execution_count": null,
   "metadata": {},
   "outputs": [],
   "source": [
    "print(\"The number of rows from query tool: \" + str(len(nei_data)))\n",
    "print(\"________________________________________________________\")\n",
    "\n",
    "print(f'The number of unique GUIDs that have gene variant type {genevariantlist}:   {len(updated[\"eyeGENEGenomics.Main.GUID\"].unique())}')\n",
    "\n",
    "print(\"________________________________________________________\")\n",
    "\n",
    "print(\"The files have been created in your folder  \" + str(created_dir))\n"
   ]
  },
  {
   "cell_type": "code",
   "execution_count": null,
   "metadata": {},
   "outputs": [],
   "source": []
  }
 ],
 "metadata": {
  "kernelspec": {
   "display_name": "Python 3",
   "language": "python",
   "name": "python3"
  },
  "language_info": {
   "codemirror_mode": {
    "name": "ipython",
    "version": 3
   },
   "file_extension": ".py",
   "mimetype": "text/x-python",
   "name": "python",
   "nbconvert_exporter": "python",
   "pygments_lexer": "ipython3",
   "version": "3.7.4"
  }
 },
 "nbformat": 4,
 "nbformat_minor": 4
}
